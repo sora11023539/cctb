{
  "nbformat": 4,
  "nbformat_minor": 0,
  "metadata": {
    "colab": {
      "provenance": [],
      "authorship_tag": "ABX9TyM1EjoxatobD50zDqM4ZlJ0",
      "include_colab_link": true
    },
    "kernelspec": {
      "name": "python3",
      "display_name": "Python 3"
    },
    "language_info": {
      "name": "python"
    }
  },
  "cells": [
    {
      "cell_type": "markdown",
      "metadata": {
        "id": "view-in-github",
        "colab_type": "text"
      },
      "source": [
        "<a href=\"https://colab.research.google.com/github/sora11023539/cctb/blob/main/Class13_ParticipationExercise.ipynb\" target=\"_parent\"><img src=\"https://colab.research.google.com/assets/colab-badge.svg\" alt=\"Open In Colab\"/></a>"
      ]
    },
    {
      "cell_type": "code",
      "execution_count": 1,
      "metadata": {
        "id": "W81dHnEORPAc",
        "outputId": "4cdee57c-96ac-4578-8f4a-a58923ec9331",
        "colab": {
          "base_uri": "https://localhost:8080/"
        }
      },
      "outputs": [
        {
          "output_type": "stream",
          "name": "stdout",
          "text": [
            "Prediction: spam\n"
          ]
        }
      ],
      "source": [
        "from sklearn.feature_extraction.text import CountVectorizer\n",
        "from sklearn.naive_bayes import MultinomialNB\n",
        "from sklearn.pipeline import make_pipeline\n",
        "\n",
        "# Sample training data (10 sentences)\n",
        "data = [\n",
        "    (\"Win a free iPhone now! Click here.\", \"spam\"),\n",
        "    (\"Limited time offer! Buy one get one free.\", \"spam\"),\n",
        "    (\"Congratulations! You have won a lottery.\", \"spam\"),\n",
        "    (\"Urgent! Your account needs verification.\", \"spam\"),\n",
        "    (\"Earn $500 daily from home. Sign up now.\", \"spam\"),\n",
        "    (\"Hello, how are you doing today?\", \"ham\"),\n",
        "    (\"Let's meet for coffee tomorrow.\", \"ham\"),\n",
        "    (\"Can you send me the report by email?\", \"ham\"),\n",
        "    (\"Hope you're having a great day!\", \"ham\"),\n",
        "    (\"Your appointment is scheduled for Monday.\", \"ham\")\n",
        "]\n",
        "\n",
        "# Split data into text and labels\n",
        "texts, labels = zip(*data)\n",
        "\n",
        "# Create a pipeline (Vectorizer + Classifier)\n",
        "model = make_pipeline(CountVectorizer(), MultinomialNB())\n",
        "\n",
        "# Train the model\n",
        "model.fit(texts, labels)\n",
        "\n",
        "# Test the model with new input\n",
        "new_text = [\"Claim your free gift now!\"]\n",
        "predicted_label = model.predict(new_text)\n",
        "\n",
        "print(f\"Prediction: {predicted_label[0]}\")\n"
      ]
    }
  ]
}