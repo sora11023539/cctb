{
  "cells": [
    {
      "cell_type": "markdown",
      "metadata": {
        "id": "view-in-github",
        "colab_type": "text"
      },
      "source": [
        "<a href=\"https://colab.research.google.com/github/sora11023539/cctb/blob/main/Classification_Clustering.ipynb\" target=\"_parent\"><img src=\"https://colab.research.google.com/assets/colab-badge.svg\" alt=\"Open In Colab\"/></a>"
      ]
    },
    {
      "cell_type": "markdown",
      "id": "0204e8cc",
      "metadata": {
        "id": "0204e8cc"
      },
      "source": [
        "## Classification"
      ]
    },
    {
      "cell_type": "code",
      "execution_count": null,
      "id": "8da135be",
      "metadata": {
        "id": "8da135be"
      },
      "outputs": [],
      "source": [
        "import numpy as np\n",
        "import matplotlib.pyplot as plt\n",
        "from sklearn.datasets import load_iris\n",
        "from sklearn.model_selection import train_test_split\n",
        "from sklearn.neighbors import KNeighborsClassifier\n",
        "from sklearn.metrics import accuracy_score\n",
        "import pandas as pd"
      ]
    },
    {
      "cell_type": "code",
      "execution_count": null,
      "id": "1503b56d",
      "metadata": {
        "id": "1503b56d",
        "outputId": "2124230d-983d-4c29-cebf-dcaad3472b36"
      },
      "outputs": [
        {
          "data": {
            "text/html": [
              "<div>\n",
              "<style scoped>\n",
              "    .dataframe tbody tr th:only-of-type {\n",
              "        vertical-align: middle;\n",
              "    }\n",
              "\n",
              "    .dataframe tbody tr th {\n",
              "        vertical-align: top;\n",
              "    }\n",
              "\n",
              "    .dataframe thead th {\n",
              "        text-align: right;\n",
              "    }\n",
              "</style>\n",
              "<table border=\"1\" class=\"dataframe\">\n",
              "  <thead>\n",
              "    <tr style=\"text-align: right;\">\n",
              "      <th></th>\n",
              "      <th>sepal length (cm)</th>\n",
              "      <th>sepal width (cm)</th>\n",
              "      <th>petal length (cm)</th>\n",
              "      <th>petal width (cm)</th>\n",
              "      <th>target</th>\n",
              "    </tr>\n",
              "  </thead>\n",
              "  <tbody>\n",
              "    <tr>\n",
              "      <th>0</th>\n",
              "      <td>5.1</td>\n",
              "      <td>3.5</td>\n",
              "      <td>1.4</td>\n",
              "      <td>0.2</td>\n",
              "      <td>0.0</td>\n",
              "    </tr>\n",
              "    <tr>\n",
              "      <th>1</th>\n",
              "      <td>4.9</td>\n",
              "      <td>3.0</td>\n",
              "      <td>1.4</td>\n",
              "      <td>0.2</td>\n",
              "      <td>0.0</td>\n",
              "    </tr>\n",
              "    <tr>\n",
              "      <th>2</th>\n",
              "      <td>4.7</td>\n",
              "      <td>3.2</td>\n",
              "      <td>1.3</td>\n",
              "      <td>0.2</td>\n",
              "      <td>0.0</td>\n",
              "    </tr>\n",
              "    <tr>\n",
              "      <th>3</th>\n",
              "      <td>4.6</td>\n",
              "      <td>3.1</td>\n",
              "      <td>1.5</td>\n",
              "      <td>0.2</td>\n",
              "      <td>0.0</td>\n",
              "    </tr>\n",
              "    <tr>\n",
              "      <th>4</th>\n",
              "      <td>5.0</td>\n",
              "      <td>3.6</td>\n",
              "      <td>1.4</td>\n",
              "      <td>0.2</td>\n",
              "      <td>0.0</td>\n",
              "    </tr>\n",
              "  </tbody>\n",
              "</table>\n",
              "</div>"
            ],
            "text/plain": [
              "   sepal length (cm)  sepal width (cm)  petal length (cm)  petal width (cm)  \\\n",
              "0                5.1               3.5                1.4               0.2   \n",
              "1                4.9               3.0                1.4               0.2   \n",
              "2                4.7               3.2                1.3               0.2   \n",
              "3                4.6               3.1                1.5               0.2   \n",
              "4                5.0               3.6                1.4               0.2   \n",
              "\n",
              "   target  \n",
              "0     0.0  \n",
              "1     0.0  \n",
              "2     0.0  \n",
              "3     0.0  \n",
              "4     0.0  "
            ]
          },
          "execution_count": 8,
          "metadata": {},
          "output_type": "execute_result"
        }
      ],
      "source": [
        "# Load the Iris dataset\n",
        "iris = load_iris()\n",
        "\n",
        "# Convert the data into a DataFrame\n",
        "iris_df = pd.DataFrame(data=np.c_[iris['data'], iris['target']], columns=iris['feature_names'] + ['target'])\n",
        "\n",
        "iris_df.head()\n"
      ]
    },
    {
      "cell_type": "code",
      "execution_count": null,
      "id": "6a8dcc9d",
      "metadata": {
        "id": "6a8dcc9d",
        "outputId": "370865f7-2468-4dff-af86-40d3ec0a130f"
      },
      "outputs": [
        {
          "name": "stdout",
          "output_type": "stream",
          "text": [
            "Accuracy: 1.0\n"
          ]
        }
      ],
      "source": [
        "iris = load_iris()\n",
        "\n",
        "# Split the dataset into training and testing sets\n",
        "X_train, X_test, y_train, y_test = train_test_split(iris.data, iris.target, test_size=0.2, random_state=42)\n",
        "\n",
        "# Create a K-Nearest Neighbors classifier\n",
        "knn = KNeighborsClassifier(n_neighbors=3)\n",
        "\n",
        "# Train the classifier\n",
        "knn.fit(X_train, y_train)\n",
        "\n",
        "# Make predictions on the test set\n",
        "y_pred = knn.predict(X_test)\n",
        "\n",
        "# Calculate the accuracy of the classifier\n",
        "accuracy = accuracy_score(y_test, y_pred)\n",
        "print(\"Accuracy:\", accuracy)"
      ]
    },
    {
      "cell_type": "code",
      "execution_count": null,
      "id": "2c24248a",
      "metadata": {
        "id": "2c24248a",
        "outputId": "3ba5923a-f1ea-447a-e1a5-461575951567"
      },
      "outputs": [
        {
          "data": {
            "image/png": "[encoded data removed]",
            "text/plain": [
              "<Figure size 432x288 with 1 Axes>"
            ]
          },
          "metadata": {
            "needs_background": "light"
          },
          "output_type": "display_data"
        }
      ],
      "source": [
        "plt.scatter(X_test[:, 0], X_test[:, 1], c=y_test, cmap=plt.cm.Set1, edgecolor='k')\n",
        "plt.xlabel('Sepal length')\n",
        "plt.ylabel('Sepal width')\n",
        "plt.title('Iris Classification')\n",
        "plt.show()"
      ]
    },
    {
      "cell_type": "markdown",
      "id": "b8c23698",
      "metadata": {
        "id": "b8c23698"
      },
      "source": [
        "## Clustering"
      ]
    },
    {
      "cell_type": "code",
      "execution_count": null,
      "id": "ac275f60",
      "metadata": {
        "id": "ac275f60",
        "outputId": "2e8f5612-d367-48a6-8832-3069ec7cfdbe"
      },
      "outputs": [
        {
          "data": {
            "text/plain": [
              "array([[  6.50565335,   2.4470026 ],\n",
              "       [ -5.12894273,   9.83618863],\n",
              "       [ -8.85057453,   6.42626854],\n",
              "       [-10.2864121 ,   5.91605914],\n",
              "       [ -7.46899195,  -6.0305075 ],\n",
              "       [ -6.13233359,  -6.26973933],\n",
              "       [  4.44751787,   2.27471703],\n",
              "       [ -9.30936606,   7.55557285],\n",
              "       [  4.375222  ,   4.69333885],\n",
              "       [ -6.06676507,  -6.25048075],\n",
              "       [ -7.80655766,  -6.93963495],\n",
              "       [  4.86733877,   3.28031244],\n",
              "       [  5.72293008,   3.02697174],\n",
              "       [ -7.36499074,  -6.79823545],\n",
              "       [ -8.90476978,  -6.69365528],\n",
              "       [ -7.7086222 ,  -7.44029063],\n",
              "       [ -2.58120774,  10.01781903],\n",
              "       [ -9.66054815,   7.56721013],\n",
              "       [ -6.193367  ,  -8.49282546],\n",
              "       [ -5.29361038,  -8.11792509],\n",
              "       [ -4.75747099,  -5.84764433],\n",
              "       [ -7.3545725 ,  -7.53343883],\n",
              "       [ -8.5156092 ,   6.49629197],\n",
              "       [ -2.44166942,   7.58953794],\n",
              "       [ -8.15637479,   7.01325616],\n",
              "       [ -3.18611962,   9.62596242],\n",
              "       [ -3.6601912 ,   9.38998415],\n",
              "       [ -7.03141229,  -6.29179239],\n",
              "       [ -2.30033403,   7.054616  ],\n",
              "       [  3.40292813,   0.65271307],\n",
              "       [ -8.39899716,  -7.36434367],\n",
              "       [ -4.56496862,  -8.74737479],\n",
              "       [-10.55146229,   8.67739529],\n",
              "       [ -9.66382495,   7.00213707],\n",
              "       [ -2.14780202,  10.55232269],\n",
              "       [  4.7395302 ,   1.46969403],\n",
              "       [ -8.4253963 ,   6.75979836],\n",
              "       [  5.22673593,   4.16362531],\n",
              "       [ -8.59336119,   6.81657974],\n",
              "       [ -2.41743685,   7.02671721],\n",
              "       [ -8.0799236 ,  -7.21461083],\n",
              "       [ -3.31769123,   8.51252908],\n",
              "       [ -7.86113584,  -6.41800612],\n",
              "       [ -5.24721589,  -8.31025097],\n",
              "       [ -9.65654844,   9.41591019],\n",
              "       [  5.26554618,   1.11601213],\n",
              "       [  3.75036441,   1.1573594 ],\n",
              "       [ -6.80982511,  -7.26542319],\n",
              "       [  3.26220947,   1.03534464],\n",
              "       [ -1.59379551,   9.34303724],\n",
              "       [ -6.64852482,   6.51522463],\n",
              "       [ -3.05358035,   9.12520872],\n",
              "       [ -7.65888764,   6.85434726],\n",
              "       [  5.43091078,   1.06378223],\n",
              "       [ -3.98771961,   8.29444192],\n",
              "       [ -3.11090424,  10.86656431],\n",
              "       [ -4.74659382,  -8.83219739],\n",
              "       [ -7.13219534,  -8.12789278],\n",
              "       [ -3.21125072,   8.68662398],\n",
              "       [  3.44857534,   2.62972329],\n",
              "       [ -7.88790392,   6.74661926],\n",
              "       [  3.7204546 ,   3.52310409],\n",
              "       [ -5.98002732,  -6.57281007],\n",
              "       [ -8.85734396,   6.32099355],\n",
              "       [ -7.96600712,   7.50686492],\n",
              "       [ -6.6805675 ,  -7.48032647],\n",
              "       [  3.57757512,   2.44676211],\n",
              "       [ -1.68665271,   7.79344248],\n",
              "       [ -7.86320802,   7.17646553],\n",
              "       [ -1.77073104,   9.18565441],\n",
              "       [ -2.18511365,   8.62920385],\n",
              "       [ -8.61423527,   7.33611532],\n",
              "       [ -3.4172217 ,   7.60198243],\n",
              "       [ -7.54141366,  -6.02767626],\n",
              "       [  6.04267315,   0.57131862],\n",
              "       [ -6.36459192,  -6.36632364],\n",
              "       [  3.56898634,   2.4556421 ],\n",
              "       [ -2.97867201,   9.55684617],\n",
              "       [ -6.3645795 ,  -3.0273781 ],\n",
              "       [ -2.98837186,   8.82862715],\n",
              "       [ -2.52269485,   7.9565752 ],\n",
              "       [  4.85397258,   0.72743091],\n",
              "       [-10.12089453,  -7.90449723],\n",
              "       [ -8.5141614 ,   7.19337986],\n",
              "       [ -8.74133179,   7.91867994],\n",
              "       [ -8.29123038,   7.12133026],\n",
              "       [ -8.83308406,   7.37050351],\n",
              "       [ -2.42215055,   8.71527878],\n",
              "       [  4.69808755,   0.83019939],\n",
              "       [ -9.05600896,   8.42229977],\n",
              "       [ -6.83405535,  -7.53170994],\n",
              "       [ -3.92456837,   8.59364081],\n",
              "       [  3.08921541,   2.04173266],\n",
              "       [  4.60516707,   0.80449165],\n",
              "       [  4.65288073,   3.42670376],\n",
              "       [ -9.55677198,   7.11007576],\n",
              "       [ -3.34841515,   8.70507375],\n",
              "       [  4.89037169,   2.31961789],\n",
              "       [ -6.43580776,  -6.10547554],\n",
              "       [ -2.90130578,   7.55077118],\n",
              "       [ -7.53284895,   7.34452676],\n",
              "       [ -9.28839323,   7.94637285],\n",
              "       [ -2.85191214,   8.21200886],\n",
              "       [ -7.08774944,  -7.37311053],\n",
              "       [ -2.21307735,   9.2753414 ],\n",
              "       [  4.41641605,   2.68717018],\n",
              "       [ -8.31898124,   8.85626183],\n",
              "       [ -7.19489644,  -6.12114037],\n",
              "       [ -5.71646344,  -6.86987653],\n",
              "       [-10.43275542,   6.72414789],\n",
              "       [  4.89976163,   2.75499256],\n",
              "       [ -6.37463991,  -6.0143544 ],\n",
              "       [ -2.16557933,   7.25124597],\n",
              "       [ -8.14818376,   6.92230244],\n",
              "       [ -3.03895783,   9.52755356],\n",
              "       [-10.96222348,   6.79776789],\n",
              "       [ -7.38718415,   8.28279374],\n",
              "       [ -4.23411546,   8.4519986 ],\n",
              "       [ -2.96983639,  10.07140835],\n",
              "       [ -2.62484591,   8.71318243],\n",
              "       [ -6.6851453 ,   6.55617535],\n",
              "       [ -5.11417295,  -6.47512788],\n",
              "       [  3.64934251,   1.40687195],\n",
              "       [ -8.7625232 ,   6.6463612 ],\n",
              "       [ -8.49657178,   9.19969375],\n",
              "       [  4.19336388,   2.82956848],\n",
              "       [ -2.17793419,   9.98983126],\n",
              "       [  5.45339605,   0.74230537],\n",
              "       [  3.7560214 ,   2.12689479],\n",
              "       [ -1.4781981 ,   9.94556625],\n",
              "       [ -5.92562543,  -6.22871834],\n",
              "       [ -6.90052879,  -6.76278221],\n",
              "       [ -1.04354885,   8.78850983],\n",
              "       [ -8.81381758,   7.82152121],\n",
              "       [ -9.6780496 ,   6.72413027],\n",
              "       [  5.60325497,   2.38595061],\n",
              "       [ -6.81534717,  -7.95785437],\n",
              "       [ -4.7356831 ,  -6.24619057],\n",
              "       [ -2.41212007,   9.98293112],\n",
              "       [ -5.61271604,  -7.58777906],\n",
              "       [  2.72110762,   1.94665581],\n",
              "       [ -3.52202874,   9.32853346],\n",
              "       [-10.15856096,   9.15498168],\n",
              "       [  3.0323956 ,   2.15780354],\n",
              "       [  4.56277713,   2.31432166],\n",
              "       [ -3.83738367,   9.21114736],\n",
              "       [  3.95985411,   2.20542338],\n",
              "       [ -7.98066813,   7.16358439],\n",
              "       [ -6.76610985,  -6.21797892],\n",
              "       [ -7.31967168,  -6.74936902],\n",
              "       [ -3.6155326 ,   7.8180795 ],\n",
              "       [ -8.85684089,   7.03486428],\n",
              "       [  5.461939  ,   3.86996267],\n",
              "       [ -8.9528676 ,   8.56133923],\n",
              "       [ -7.65245241,  -7.1169282 ],\n",
              "       [ -7.68021688,   8.11518561],\n",
              "       [ -9.84434514,   6.1093343 ],\n",
              "       [  4.89742923,   1.89872377],\n",
              "       [  5.11311646,   1.90034077],\n",
              "       [  5.79847442,   1.15248737],\n",
              "       [ -1.6966718 ,  10.37052616],\n",
              "       [  4.39449072,   1.21943352],\n",
              "       [  4.9976662 ,   2.53395421],\n",
              "       [ -8.94708791,   7.72523464],\n",
              "       [ -2.72886951,   9.3713987 ],\n",
              "       [ -6.30873668,  -5.74454395],\n",
              "       [  4.93295131,   1.25881827],\n",
              "       [  3.85662554,   1.65110817],\n",
              "       [ -6.59863532,  -7.50280911],\n",
              "       [  4.91656964,   2.80035293],\n",
              "       [ -7.56066286,   6.73195153],\n",
              "       [ -2.50408417,   8.77969899],\n",
              "       [ -7.5949309 ,  -6.20051184],\n",
              "       [ -6.52261171,  -7.57301919],\n",
              "       [  5.78270165,   2.72510272],\n",
              "       [ -5.4383539 ,  -8.31597174],\n",
              "       [  4.70010905,   4.4364118 ],\n",
              "       [ -3.10983631,   8.72259238],\n",
              "       [ -2.67048333,   9.41833699],\n",
              "       [ -8.14051115,  -5.96224765],\n",
              "       [ -2.97261532,   8.54855637],\n",
              "       [ -7.67214793,  -6.99484603],\n",
              "       [ -8.74065166,   6.55051313],\n",
              "       [ -8.21420794,   7.95186842],\n",
              "       [ -8.01291141,   8.13703255],\n",
              "       [ -1.03130358,   8.49601591],\n",
              "       [  5.1618204 ,   2.27015436],\n",
              "       [  4.81305976,   2.35848706],\n",
              "       [  3.79308512,   0.45832246],\n",
              "       [ -2.54502366,  10.57892978],\n",
              "       [ -2.1475616 ,   8.36916637],\n",
              "       [ -7.60999382,  -6.663651  ],\n",
              "       [ -9.73674243,   7.81544209],\n",
              "       [ -9.59746042,   7.4739167 ],\n",
              "       [ -2.26723535,   7.10100588],\n",
              "       [ -8.52742019,   8.79887913],\n",
              "       [  6.52606474,   2.1477475 ],\n",
              "       [ -0.92998481,   9.78172086],\n",
              "       [ -7.35155906,  -5.791159  ],\n",
              "       [  3.66519717,   2.76025429]])"
            ]
          },
          "execution_count": 19,
          "metadata": {},
          "output_type": "execute_result"
        }
      ],
      "source": [
        "import matplotlib.pyplot as plt\n",
        "from sklearn.datasets import make_blobs\n",
        "from sklearn.cluster import AgglomerativeClustering\n",
        "\n",
        "# Generate the \"blobs\" dataset\n",
        "X, y = make_blobs(n_samples=200, centers=4, random_state=42)\n",
        "\n",
        "X"
      ]
    },
    {
      "cell_type": "code",
      "execution_count": null,
      "id": "58a13b1b",
      "metadata": {
        "id": "58a13b1b",
        "outputId": "6d269024-536f-42af-d1ff-68244d7d9890"
      },
      "outputs": [
        {
          "data": {
            "image/png": "[encoded data removed]",
            "text/plain": [
              "<Figure size 432x288 with 1 Axes>"
            ]
          },
          "metadata": {
            "needs_background": "light"
          },
          "output_type": "display_data"
        }
      ],
      "source": [
        "# Create an Agglomerative Clustering model\n",
        "clustering = AgglomerativeClustering(n_clusters=4)\n",
        "\n",
        "# Fit the model to the data\n",
        "clustering.fit(X)\n",
        "\n",
        "# Get the cluster labels\n",
        "labels = clustering.labels_\n",
        "\n",
        "# Plotting the clustering results\n",
        "plt.scatter(X[:, 0], X[:, 1], c=labels, cmap=plt.cm.Set1, edgecolor='k')\n",
        "plt.xlabel('Feature 1')\n",
        "plt.ylabel('Feature 2')\n",
        "plt.title('Clustering Results')\n",
        "plt.show()"
      ]
    },
    {
      "cell_type": "code",
      "execution_count": null,
      "id": "20844ed3",
      "metadata": {
        "id": "20844ed3",
        "outputId": "d348346c-1a22-43b0-e792-d6627185648a"
      },
      "outputs": [
        {
          "data": {
            "text/plain": [
              "array([2, 1, 3, 3, 0, 0, 2, 3, 2, 0, 0, 2, 2, 0, 0, 0, 1, 3, 0, 0, 0, 0,\n",
              "       3, 1, 3, 1, 1, 0, 1, 2, 0, 0, 3, 3, 1, 2, 3, 2, 3, 1, 0, 1, 0, 0,\n",
              "       3, 2, 2, 0, 2, 1, 3, 1, 3, 2, 1, 1, 0, 0, 1, 2, 3, 2, 0, 3, 3, 0,\n",
              "       2, 1, 3, 1, 1, 3, 1, 0, 2, 0, 2, 1, 0, 1, 1, 2, 0, 3, 3, 3, 3, 1,\n",
              "       2, 3, 0, 1, 2, 2, 2, 3, 1, 2, 0, 1, 3, 3, 1, 0, 1, 2, 3, 0, 0, 3,\n",
              "       2, 0, 1, 3, 1, 3, 3, 1, 1, 1, 3, 0, 2, 3, 3, 2, 1, 2, 2, 1, 0, 0,\n",
              "       1, 3, 3, 2, 0, 0, 1, 0, 2, 1, 3, 2, 2, 1, 2, 3, 0, 0, 1, 3, 2, 3,\n",
              "       0, 3, 3, 2, 2, 2, 1, 2, 2, 3, 1, 0, 2, 2, 0, 2, 3, 1, 0, 0, 2, 0,\n",
              "       2, 1, 1, 0, 1, 0, 3, 3, 3, 1, 2, 2, 2, 1, 1, 0, 3, 3, 1, 3, 2, 1,\n",
              "       0, 2])"
            ]
          },
          "execution_count": 22,
          "metadata": {},
          "output_type": "execute_result"
        }
      ],
      "source": [
        "labels"
      ]
    },
    {
      "cell_type": "code",
      "execution_count": null,
      "id": "148c0474",
      "metadata": {
        "id": "148c0474"
      },
      "outputs": [],
      "source": []
    }
  ],
  "metadata": {
    "kernelspec": {
      "display_name": "Python 3 (ipykernel)",
      "language": "python",
      "name": "python3"
    },
    "language_info": {
      "codemirror_mode": {
        "name": "ipython",
        "version": 3
      },
      "file_extension": ".py",
      "mimetype": "text/x-python",
      "name": "python",
      "nbconvert_exporter": "python",
      "pygments_lexer": "ipython3",
      "version": "3.9.12"
    },
    "colab": {
      "provenance": [],
      "include_colab_link": true
    }
  },
  "nbformat": 4,
  "nbformat_minor": 5
}